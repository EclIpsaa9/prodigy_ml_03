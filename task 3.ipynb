{
 "cells": [
  {
   "cell_type": "code",
   "execution_count": null,
   "id": "47441224",
   "metadata": {},
   "outputs": [],
   "source": [
    "!pip install numpy scikit-learn opencv-python\n",
    "import os\n",
    "from skimage.feature import hog\n",
    "import cv2\n",
    "import numpy as np\n",
    "from sklearn.model_selection import train_test_split, GridSearchCV\n",
    "from sklearn.svm import SVC\n",
    "from sklearn.metrics import accuracy_score,classification_report\n"
   ]
  },
  {
   "cell_type": "code",
   "execution_count": null,
   "id": "b8e44135",
   "metadata": {},
   "outputs": [],
   "source": [
    "dataset_path = '/content/drive/MyDrive/train'\n",
    "\n",
    "images = []\n",
    "labels = []"
   ]
  },
  {
   "cell_type": "code",
   "execution_count": null,
   "id": "21d91bc5",
   "metadata": {},
   "outputs": [],
   "source": [
    "for category in os.listdir(dataset_path):\n",
    "    category_path = os.path.join(dataset_path, category)\n",
    "\n",
    "    if not os.path.isdir(category_path):\n",
    "        continue\n",
    "\n",
    "    for file_name in os.listdir(category_path):\n",
    "        image_path = os.path.join(category_path, file_name)\n",
    "\n",
    "        if not os.path.isfile(image_path):\n",
    "            continue\n",
    "\n",
    "        image = cv2.imread(image_path)\n",
    "        image = cv2.cvtColor(image, cv2.COLOR_BGR2GRAY)\n",
    "        image = cv2.resize(image, (64, 64))\n",
    "\n",
    "        features, hog_image = hog(image, orientations=9, pixels_per_cell=(8, 8), cells_per_block=(2, 2), visualize=True)\n",
    "\n",
    "        images.append(features)\n",
    "        labels.append(category)\n"
   ]
  },
  {
   "cell_type": "code",
   "execution_count": null,
   "id": "c9b71e6a",
   "metadata": {},
   "outputs": [],
   "source": [
    "X = np.array(images)\n",
    "y = np.array(labels)\n",
    "\n",
    "X = X / 255.0\n",
    "\n",
    "X_flatten = X.reshape(X.shape[0], -1)\n",
    "\n",
    "X_train, X_test, y_train, y_test = train_test_split(X_flatten, y, test_size=0.2, random_state=42)\n",
    "\n",
    "param_grid = {\n",
    "    'C': [0.1, 1, 10],\n",
    "    'kernel': ['linear', 'rbf', 'poly'],\n",
    "}\n",
    "\n",
    "svm_model = SVC(random_state=42, probability=True)\n",
    "\n",
    "grid_search = GridSearchCV(svm_model, param_grid, cv=3, n_jobs=-1)\n",
    "grid_search.fit(X_train, y_train)\n",
    "\n",
    "print(\"Best Parameters:\", grid_search.best_params_)\n",
    "\n",
    "y_pred = grid_search.predict(X_test)\n",
    "\n",
    "accuracy = accuracy_score(y_test, y_pred)\n",
    "print(f'Accuracy: {accuracy}')\n",
    "\n",
    "print(classification_report(y_test, y_pred, target_names=['cat', 'dog']))"
   ]
  },
  {
   "cell_type": "code",
   "execution_count": null,
   "id": "f8dc90dd",
   "metadata": {},
   "outputs": [],
   "source": [
    "import cv2\n",
    "from skimage.feature import hog\n",
    "from skimage import exposure\n",
    "from skimage.transform import resize\n",
    "from skimage.io import imread\n",
    "import matplotlib.pyplot as plt\n",
    "\n",
    "def preprocess_image(image_path):\n",
    "\n",
    "    image = cv2.imread(image_path)\n",
    "    gray_image = cv2.cvtColor(image, cv2.COLOR_BGR2GRAY)\n",
    "    resized_image = resize(gray_image, (64, 64))\n",
    "\n",
    "    features, _ = hog(resized_image, orientations=9, pixels_per_cell=(8, 8), cells_per_block=(2, 2), visualize=True)\n",
    "    features_flatten = features.flatten()\n",
    "\n",
    "    return features_flatten\n",
    "\n",
    "image_path = '/content/drive/MyDrive/test/55.jpg'\n",
    "preprocessed_image = preprocess_image(image_path)\n",
    "img=imread(image_path)\n",
    "plt.imshow(img)\n",
    "plt.show()\n",
    "\n",
    "reshaped_image = preprocessed_image.reshape(1, -1)\n",
    "\n",
    "prediction = grid_search.predict(reshaped_image)\n",
    "print(\"Predicted Label:\", prediction)"
   ]
  }
 ],
 "metadata": {
  "kernelspec": {
   "display_name": "Python 3 (ipykernel)",
   "language": "python",
   "name": "python3"
  },
  "language_info": {
   "codemirror_mode": {
    "name": "ipython",
    "version": 3
   },
   "file_extension": ".py",
   "mimetype": "text/x-python",
   "name": "python",
   "nbconvert_exporter": "python",
   "pygments_lexer": "ipython3",
   "version": "3.9.12"
  }
 },
 "nbformat": 4,
 "nbformat_minor": 5
}
